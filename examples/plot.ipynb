{
 "cells": [
  {
   "cell_type": "markdown",
   "metadata": {
    "toc": true
   },
   "source": [
    "<h1>Table of Contents<span class=\"tocSkip\"></span></h1>\n",
    "<div class=\"toc\"><ul class=\"toc-item\"><li><span><a href=\"#Data\" data-toc-modified-id=\"Data-1\"><span class=\"toc-item-num\">1&nbsp;&nbsp;</span>Data</a></span><ul class=\"toc-item\"><li><span><a href=\"#Disproportionality-Bar-Plot\" data-toc-modified-id=\"Disproportionality-Bar-Plot-1.1\"><span class=\"toc-item-num\">1.1&nbsp;&nbsp;</span>Disproportionality Bar Plot</a></span></li><li><span><a href=\"#Parliament-Plot\" data-toc-modified-id=\"Parliament-Plot-1.2\"><span class=\"toc-item-num\">1.2&nbsp;&nbsp;</span>Parliament Plot</a></span></li></ul></li></ul></div>"
   ]
  },
  {
   "cell_type": "markdown",
   "metadata": {},
   "source": [
    "**plot**\n",
    "\n",
    "This notebook provides examples for most functions found in [poli_sci_kit/plot](https://github.com/andrewtavis/poli-sci-kit/tree/main/poli_sci_kit/plot).\n",
    "\n",
    "The setting is a hypothetical election in Germany for the Bundestag (German national parliament)."
   ]
  },
  {
   "cell_type": "code",
   "execution_count": 1,
   "metadata": {
    "ExecuteTime": {
     "end_time": "2021-01-26T11:51:29.340175Z",
     "start_time": "2021-01-26T11:51:27.940932Z"
    }
   },
   "outputs": [
    {
     "data": {
      "text/html": [
       "<style>.container { width:99% !important; }</style>"
      ],
      "text/plain": [
       "<IPython.core.display.HTML object>"
      ]
     },
     "metadata": {},
     "output_type": "display_data"
    }
   ],
   "source": [
    "import stdviz\n",
    "import poli_sci_kit\n",
    "from poli_sci_kit import appointment\n",
    "\n",
    "import matplotlib.pyplot as plt\n",
    "import seaborn as sns\n",
    "sns.set(style=\"darkgrid\")\n",
    "sns.set(rc={'figure.figsize':(15,5)})\n",
    "\n",
    "from IPython.core.display import display, HTML\n",
    "display(HTML(\"<style>.container { width:99% !important; }</style>\"))"
   ]
  },
  {
   "cell_type": "markdown",
   "metadata": {},
   "source": [
    "# Data\n",
    "\n",
    "We're using German political parties for this example. The following are their abbreviations and colors:"
   ]
  },
  {
   "cell_type": "code",
   "execution_count": 2,
   "metadata": {
    "ExecuteTime": {
     "end_time": "2021-01-26T11:51:29.400569Z",
     "start_time": "2021-01-26T11:51:29.341856Z"
    }
   },
   "outputs": [
    {
     "data": {
      "image/png": "[encoded data removed]",
      "text/plain": [
       "<Figure size 432x72 with 1 Axes>"
      ]
     },
     "metadata": {},
     "output_type": "display_data"
    }
   ],
   "source": [
    "parties = ['CDU/CSU', 'FDP', 'Greens', 'Die Linke', 'SPD', 'AfD']\n",
    "party_colors = ['#000000', '#ffed00', '#64a12d', '#be3075', '#eb001f', '#009ee0']\n",
    "sns.palplot(sns.color_palette(party_colors))"
   ]
  },
  {
   "cell_type": "markdown",
   "metadata": {},
   "source": [
    "Assume that Germany had an election that lead to the following Bundestag allocations:"
   ]
  },
  {
   "cell_type": "code",
   "execution_count": 5,
   "metadata": {
    "ExecuteTime": {
     "end_time": "2021-01-26T11:52:04.767716Z",
     "start_time": "2021-01-26T11:52:04.764926Z"
    }
   },
   "outputs": [],
   "source": [
    "votes = [2700, 900, 3300, 1300, 2150, 500]"
   ]
  },
  {
   "cell_type": "code",
   "execution_count": 6,
   "metadata": {
    "ExecuteTime": {
     "end_time": "2021-01-26T11:52:04.943867Z",
     "start_time": "2021-01-26T11:52:04.941236Z"
    }
   },
   "outputs": [],
   "source": [
    "allocations = [26, 9, 37, 12, 23, 5]"
   ]
  },
  {
   "cell_type": "markdown",
   "metadata": {},
   "source": [
    "## Disproportionality Bar Plot\n",
    "\n",
    "Graphically depicts the disproportionality between votes received and seats allocated. Bar widths in this case are the proportion of votes received, and heights are the difference or relative difference between votes and seats received."
   ]
  },
  {
   "cell_type": "code",
   "execution_count": 7,
   "metadata": {
    "ExecuteTime": {
     "end_time": "2021-01-26T11:52:05.692552Z",
     "start_time": "2021-01-26T11:52:05.674445Z"
    }
   },
   "outputs": [
    {
     "ename": "AttributeError",
     "evalue": "module 'poli_sci_kit.utils' has no attribute 'scale_saturation'",
     "output_type": "error",
     "traceback": [
      "\u001b[0;31m---------------------------------------------------------------------------\u001b[0m",
      "\u001b[0;31mAttributeError\u001b[0m                            Traceback (most recent call last)",
      "\u001b[0;32m<ipython-input-7-75a8cc087c65>\u001b[0m in \u001b[0;36m<module>\u001b[0;34m\u001b[0m\n\u001b[1;32m      7\u001b[0m     \u001b[0mtotal_alloc\u001b[0m\u001b[0;34m=\u001b[0m\u001b[0;32mNone\u001b[0m\u001b[0;34m,\u001b[0m\u001b[0;34m\u001b[0m\u001b[0;34m\u001b[0m\u001b[0m\n\u001b[1;32m      8\u001b[0m     \u001b[0mpercent\u001b[0m\u001b[0;34m=\u001b[0m\u001b[0;32mTrue\u001b[0m\u001b[0;34m,\u001b[0m\u001b[0;34m\u001b[0m\u001b[0;34m\u001b[0m\u001b[0m\n\u001b[0;32m----> 9\u001b[0;31m     \u001b[0maxis\u001b[0m\u001b[0;34m=\u001b[0m\u001b[0;32mNone\u001b[0m\u001b[0;34m,\u001b[0m\u001b[0;34m\u001b[0m\u001b[0;34m\u001b[0m\u001b[0m\n\u001b[0m\u001b[1;32m     10\u001b[0m )\n\u001b[1;32m     11\u001b[0m \u001b[0;34m\u001b[0m\u001b[0m\n",
      "\u001b[0;32m~/opt/anaconda3/lib/python3.7/site-packages/poli_sci_kit/plot/dispr_bar.py\u001b[0m in \u001b[0;36mdispr_bar\u001b[0;34m(shares, allocations, names, colors, total_shares, total_alloc, percent, dsat, axis)\u001b[0m\n\u001b[1;32m     99\u001b[0m         ), \"The number of colors provided doesn't match the number of counts to be displayed\"\n\u001b[1;32m    100\u001b[0m         colors = [\n\u001b[0;32m--> 101\u001b[0;31m             \u001b[0mutils\u001b[0m\u001b[0;34m.\u001b[0m\u001b[0mscale_saturation\u001b[0m\u001b[0;34m(\u001b[0m\u001b[0mrgb\u001b[0m\u001b[0;34m=\u001b[0m\u001b[0mutils\u001b[0m\u001b[0;34m.\u001b[0m\u001b[0mhex_to_rgb\u001b[0m\u001b[0;34m(\u001b[0m\u001b[0mc\u001b[0m\u001b[0;34m)\u001b[0m\u001b[0;34m,\u001b[0m \u001b[0msat\u001b[0m\u001b[0;34m=\u001b[0m\u001b[0mdsat\u001b[0m\u001b[0;34m)\u001b[0m \u001b[0;32mfor\u001b[0m \u001b[0mc\u001b[0m \u001b[0;32min\u001b[0m \u001b[0mcolors\u001b[0m\u001b[0;34m\u001b[0m\u001b[0;34m\u001b[0m\u001b[0m\n\u001b[0m\u001b[1;32m    102\u001b[0m         ]\n\u001b[1;32m    103\u001b[0m         \u001b[0msns\u001b[0m\u001b[0;34m.\u001b[0m\u001b[0mset_palette\u001b[0m\u001b[0;34m(\u001b[0m\u001b[0mcolors\u001b[0m\u001b[0;34m)\u001b[0m\u001b[0;34m\u001b[0m\u001b[0;34m\u001b[0m\u001b[0m\n",
      "\u001b[0;32m~/opt/anaconda3/lib/python3.7/site-packages/poli_sci_kit/plot/dispr_bar.py\u001b[0m in \u001b[0;36m<listcomp>\u001b[0;34m(.0)\u001b[0m\n\u001b[1;32m     99\u001b[0m         ), \"The number of colors provided doesn't match the number of counts to be displayed\"\n\u001b[1;32m    100\u001b[0m         colors = [\n\u001b[0;32m--> 101\u001b[0;31m             \u001b[0mutils\u001b[0m\u001b[0;34m.\u001b[0m\u001b[0mscale_saturation\u001b[0m\u001b[0;34m(\u001b[0m\u001b[0mrgb\u001b[0m\u001b[0;34m=\u001b[0m\u001b[0mutils\u001b[0m\u001b[0;34m.\u001b[0m\u001b[0mhex_to_rgb\u001b[0m\u001b[0;34m(\u001b[0m\u001b[0mc\u001b[0m\u001b[0;34m)\u001b[0m\u001b[0;34m,\u001b[0m \u001b[0msat\u001b[0m\u001b[0;34m=\u001b[0m\u001b[0mdsat\u001b[0m\u001b[0;34m)\u001b[0m \u001b[0;32mfor\u001b[0m \u001b[0mc\u001b[0m \u001b[0;32min\u001b[0m \u001b[0mcolors\u001b[0m\u001b[0;34m\u001b[0m\u001b[0;34m\u001b[0m\u001b[0m\n\u001b[0m\u001b[1;32m    102\u001b[0m         ]\n\u001b[1;32m    103\u001b[0m         \u001b[0msns\u001b[0m\u001b[0;34m.\u001b[0m\u001b[0mset_palette\u001b[0m\u001b[0;34m(\u001b[0m\u001b[0mcolors\u001b[0m\u001b[0;34m)\u001b[0m\u001b[0;34m\u001b[0m\u001b[0;34m\u001b[0m\u001b[0m\n",
      "\u001b[0;31mAttributeError\u001b[0m: module 'poli_sci_kit.utils' has no attribute 'scale_saturation'"
     ]
    }
   ],
   "source": [
    "ax = poli_sci_kit.plot.dispr_bar(\n",
    "    shares=votes,\n",
    "    allocations=allocations,\n",
    "    names=parties,\n",
    "    colors=party_colors,\n",
    "    total_shares=None,\n",
    "    total_alloc=None,\n",
    "    percent=True,\n",
    "    axis=None,\n",
    ")\n",
    "\n",
    "handles, labels = stdviz.plot.legend.gen_elements(\n",
    "    counts=[round(v / sum(votes), 4) for v in votes],\n",
    "    names=parties,\n",
    "    colors=party_colors,\n",
    "    size=11,\n",
    "    marker=\"o\",\n",
    "    padding_indexes=None,\n",
    "    order=None,\n",
    ")\n",
    "\n",
    "ax.legend(\n",
    "    handles=handles,\n",
    "    labels=labels,\n",
    "    title=\"Vote Percents (bar widths)\",\n",
    "    title_fontsize=15,\n",
    "    fontsize=11,\n",
    "    ncol=2,\n",
    "    loc=\"upper left\",\n",
    "    bbox_to_anchor=(0, 1),\n",
    "    frameon=True,\n",
    "    facecolor=\"#ffffff\",\n",
    "    framealpha=1,\n",
    ")\n",
    "\n",
    "ax.axes.set_title(\"Seat to Vote Share Disproportionality\", fontsize=30)\n",
    "ax.set_xlabel(\"Parties\", fontsize=20)\n",
    "ax.set_ylabel(\"Percent Shift\", fontsize=20)\n",
    "\n",
    "plt.show()"
   ]
  },
  {
   "cell_type": "markdown",
   "metadata": {},
   "source": [
    "Let's also show the general disproportionality given the allocations and votes:"
   ]
  },
  {
   "cell_type": "code",
   "execution_count": 8,
   "metadata": {
    "ExecuteTime": {
     "end_time": "2021-01-26T11:52:21.405364Z",
     "start_time": "2021-01-26T11:52:21.401689Z"
    }
   },
   "outputs": [
    {
     "data": {
      "text/plain": [
       "0.024364384772530633"
      ]
     },
     "execution_count": 8,
     "metadata": {},
     "output_type": "execute_result"
    }
   ],
   "source": [
    "appointment.metrics.dispr_index(\n",
    "    shares=votes, allocations=allocations, mertric_type=\"Gallagher\"\n",
    ")"
   ]
  },
  {
   "cell_type": "markdown",
   "metadata": {},
   "source": [
    "## Parliament Plot\n",
    "\n",
    "Leverages a dictionary allocation of matplotlib's scatter plot to color points appropriately."
   ]
  },
  {
   "cell_type": "code",
   "execution_count": 9,
   "metadata": {
    "ExecuteTime": {
     "end_time": "2021-01-26T11:52:23.371738Z",
     "start_time": "2021-01-26T11:52:23.358676Z"
    }
   },
   "outputs": [
    {
     "ename": "AttributeError",
     "evalue": "module 'poli_sci_kit.utils' has no attribute 'scale_saturation'",
     "output_type": "error",
     "traceback": [
      "\u001b[0;31m---------------------------------------------------------------------------\u001b[0m",
      "\u001b[0;31mAttributeError\u001b[0m                            Traceback (most recent call last)",
      "\u001b[0;32m<ipython-input-9-c4276b3dfd4d>\u001b[0m in \u001b[0;36m<module>\u001b[0;34m\u001b[0m\n\u001b[1;32m      8\u001b[0m     \u001b[0mspeaker\u001b[0m\u001b[0;34m=\u001b[0m\u001b[0;32mTrue\u001b[0m\u001b[0;34m,\u001b[0m\u001b[0;34m\u001b[0m\u001b[0;34m\u001b[0m\u001b[0m\n\u001b[1;32m      9\u001b[0m     \u001b[0mdf_seat_lctns\u001b[0m\u001b[0;34m=\u001b[0m\u001b[0;32mNone\u001b[0m\u001b[0;34m,\u001b[0m\u001b[0;34m\u001b[0m\u001b[0;34m\u001b[0m\u001b[0m\n\u001b[0;32m---> 10\u001b[0;31m     \u001b[0maxis\u001b[0m\u001b[0;34m=\u001b[0m\u001b[0;32mNone\u001b[0m\u001b[0;34m,\u001b[0m\u001b[0;34m\u001b[0m\u001b[0;34m\u001b[0m\u001b[0m\n\u001b[0m\u001b[1;32m     11\u001b[0m )\n\u001b[1;32m     12\u001b[0m \u001b[0;34m\u001b[0m\u001b[0m\n",
      "\u001b[0;32m~/opt/anaconda3/lib/python3.7/site-packages/poli_sci_kit/plot/parliament.py\u001b[0m in \u001b[0;36mparliament\u001b[0;34m(allocations, names, colors, style, num_rows, marker_size, speaker, df_seat_lctns, dsat, axis)\u001b[0m\n\u001b[1;32m     84\u001b[0m         ]\n\u001b[1;32m     85\u001b[0m \u001b[0;34m\u001b[0m\u001b[0m\n\u001b[0;32m---> 86\u001b[0;31m     \u001b[0mcolors\u001b[0m \u001b[0;34m=\u001b[0m \u001b[0;34m[\u001b[0m\u001b[0mutils\u001b[0m\u001b[0;34m.\u001b[0m\u001b[0mscale_saturation\u001b[0m\u001b[0;34m(\u001b[0m\u001b[0mrgb\u001b[0m\u001b[0;34m=\u001b[0m\u001b[0mutils\u001b[0m\u001b[0;34m.\u001b[0m\u001b[0mhex_to_rgb\u001b[0m\u001b[0;34m(\u001b[0m\u001b[0mc\u001b[0m\u001b[0;34m)\u001b[0m\u001b[0;34m,\u001b[0m \u001b[0msat\u001b[0m\u001b[0;34m=\u001b[0m\u001b[0mdsat\u001b[0m\u001b[0;34m)\u001b[0m \u001b[0;32mfor\u001b[0m \u001b[0mc\u001b[0m \u001b[0;32min\u001b[0m \u001b[0mcolors\u001b[0m\u001b[0;34m]\u001b[0m\u001b[0;34m\u001b[0m\u001b[0;34m\u001b[0m\u001b[0m\n\u001b[0m\u001b[1;32m     87\u001b[0m     \u001b[0msns\u001b[0m\u001b[0;34m.\u001b[0m\u001b[0mset_palette\u001b[0m\u001b[0;34m(\u001b[0m\u001b[0mcolors\u001b[0m\u001b[0;34m)\u001b[0m\u001b[0;34m\u001b[0m\u001b[0;34m\u001b[0m\u001b[0m\n\u001b[1;32m     88\u001b[0m \u001b[0;34m\u001b[0m\u001b[0m\n",
      "\u001b[0;32m~/opt/anaconda3/lib/python3.7/site-packages/poli_sci_kit/plot/parliament.py\u001b[0m in \u001b[0;36m<listcomp>\u001b[0;34m(.0)\u001b[0m\n\u001b[1;32m     84\u001b[0m         ]\n\u001b[1;32m     85\u001b[0m \u001b[0;34m\u001b[0m\u001b[0m\n\u001b[0;32m---> 86\u001b[0;31m     \u001b[0mcolors\u001b[0m \u001b[0;34m=\u001b[0m \u001b[0;34m[\u001b[0m\u001b[0mutils\u001b[0m\u001b[0;34m.\u001b[0m\u001b[0mscale_saturation\u001b[0m\u001b[0;34m(\u001b[0m\u001b[0mrgb\u001b[0m\u001b[0;34m=\u001b[0m\u001b[0mutils\u001b[0m\u001b[0;34m.\u001b[0m\u001b[0mhex_to_rgb\u001b[0m\u001b[0;34m(\u001b[0m\u001b[0mc\u001b[0m\u001b[0;34m)\u001b[0m\u001b[0;34m,\u001b[0m \u001b[0msat\u001b[0m\u001b[0;34m=\u001b[0m\u001b[0mdsat\u001b[0m\u001b[0;34m)\u001b[0m \u001b[0;32mfor\u001b[0m \u001b[0mc\u001b[0m \u001b[0;32min\u001b[0m \u001b[0mcolors\u001b[0m\u001b[0;34m]\u001b[0m\u001b[0;34m\u001b[0m\u001b[0;34m\u001b[0m\u001b[0m\n\u001b[0m\u001b[1;32m     87\u001b[0m     \u001b[0msns\u001b[0m\u001b[0;34m.\u001b[0m\u001b[0mset_palette\u001b[0m\u001b[0;34m(\u001b[0m\u001b[0mcolors\u001b[0m\u001b[0;34m)\u001b[0m\u001b[0;34m\u001b[0m\u001b[0;34m\u001b[0m\u001b[0m\n\u001b[1;32m     88\u001b[0m \u001b[0;34m\u001b[0m\u001b[0m\n",
      "\u001b[0;31mAttributeError\u001b[0m: module 'poli_sci_kit.utils' has no attribute 'scale_saturation'"
     ]
    }
   ],
   "source": [
    "ax = poli_sci_kit.plot.parliament(\n",
    "    allocations=allocations,\n",
    "    names=parties,\n",
    "    colors=party_colors,\n",
    "    style=\"rectangle\",\n",
    "    num_rows=6,\n",
    "    marker_size=300,\n",
    "    speaker=True,\n",
    "    df_seat_lctns=None,\n",
    "    axis=None,\n",
    ")\n",
    "\n",
    "plt.show()"
   ]
  },
  {
   "cell_type": "code",
   "execution_count": null,
   "metadata": {},
   "outputs": [],
   "source": [
    "ax = poli_sci_kit.plot.parliament(\n",
    "    allocations=allocations,\n",
    "    names=parties,\n",
    "    colors=party_colors,\n",
    "    style=\"semicircle\",\n",
    "    num_rows=4,\n",
    "    marker_size=175,\n",
    "    df_seat_lctns=None,\n",
    "    axis=None,\n",
    ")\n",
    "\n",
    "\n",
    "handles, labels = stdviz.plot.legend.gen_elements(\n",
    "    counts=allocations,\n",
    "    names=parties,\n",
    "    colors=party_colors,\n",
    "    size=8,\n",
    "    marker=\"o\",\n",
    "    padding_indexes=None,\n",
    "    order=[2, 1, 0, 3, 4, 5],\n",
    ")\n",
    "\n",
    "ax.legend(\n",
    "    handles=handles,\n",
    "    labels=labels,\n",
    "    title=\"Seats per Party: {} total\".format(sum(allocations)),\n",
    "    title_fontsize=10,\n",
    "    fontsize=8,\n",
    "    ncol=2,\n",
    "    loc=\"center\",\n",
    "    bbox_to_anchor=(0.5, 0.12),\n",
    "    frameon=False,\n",
    "    facecolor=\"#ffffff\",\n",
    "    framealpha=1,\n",
    ")\n",
    "\n",
    "plt.show()"
   ]
  },
  {
   "cell_type": "code",
   "execution_count": null,
   "metadata": {},
   "outputs": [],
   "source": [
    "df_seat_lctns = poli_sci_kit.utils.gen_parl_points(\n",
    "    allocations=allocations,\n",
    "    names=parties,\n",
    "    style=\"semicircle\",\n",
    "    speaker=False,\n",
    "    num_rows=4,\n",
    ")\n",
    "\n",
    "df_seat_lctns"
   ]
  },
  {
   "cell_type": "code",
   "execution_count": null,
   "metadata": {},
   "outputs": [],
   "source": [
    "# Swap two Greens and Die Linke allocations\n",
    "stdviz.utils.swap_parl_allocations(\n",
    "    df=df_seat_lctns, row_1=0, pos_1=17, row_2=3, pos_2=18\n",
    ")\n",
    "stdviz.utils.swap_parl_allocations(\n",
    "    df=df_seat_lctns, row_1=1, pos_1=17, row_2=2, pos_2=18\n",
    ")\n",
    "\n",
    "# Swap two SPD and AfD allocations\n",
    "stdviz.utils.swap_parl_allocations(\n",
    "    df=df_seat_lctns, row_1=0, pos_1=23, row_2=3, pos_2=28\n",
    ")\n",
    "stdviz.utils.swap_parl_allocations(\n",
    "    df=df_seat_lctns, row_1=1, pos_1=25, row_2=3, pos_2=29\n",
    ")"
   ]
  },
  {
   "cell_type": "markdown",
   "metadata": {},
   "source": [
    "Now pass df_seat_lctns:"
   ]
  },
  {
   "cell_type": "code",
   "execution_count": null,
   "metadata": {},
   "outputs": [],
   "source": [
    "ax = poli_sci_kit.plot.parliament(\n",
    "    allocations=allocations,\n",
    "    names=parties,\n",
    "    colors=party_colors,\n",
    "    style=\"semicircle\",\n",
    "    num_rows=4,\n",
    "    marker_size=175,\n",
    "    df_seat_lctns=df_seat_lctns,\n",
    "    axis=None,\n",
    ")\n",
    "\n",
    "handles, labels = stdviz.plot.legend.gen_elements(\n",
    "    counts=allocations,\n",
    "    names=parties,\n",
    "    colors=party_colors,\n",
    "    size=8,\n",
    "    marker=\"o\",\n",
    "    padding_indexes=None,\n",
    "    order=[2, 1, 0, 3, 4, 5],\n",
    ")\n",
    "\n",
    "ax.legend(\n",
    "    handles=handles,\n",
    "    labels=labels,\n",
    "    title=\"Seats per Party: {} total\".format(sum(allocations)),\n",
    "    title_fontsize=10,\n",
    "    fontsize=8,\n",
    "    ncol=2,\n",
    "    loc=\"center\",\n",
    "    bbox_to_anchor=(0.5, 0.12),\n",
    "    frameon=False,\n",
    "    facecolor=\"#ffffff\",\n",
    "    framealpha=1,\n",
    ")\n",
    "\n",
    "plt.show()"
   ]
  },
  {
   "cell_type": "code",
   "execution_count": null,
   "metadata": {},
   "outputs": [],
   "source": []
  }
 ],
 "metadata": {
  "kernelspec": {
   "display_name": "Python 3",
   "language": "python",
   "name": "python3"
  },
  "language_info": {
   "codemirror_mode": {
    "name": "ipython",
    "version": 3
   },
   "file_extension": ".py",
   "mimetype": "text/x-python",
   "name": "python",
   "nbconvert_exporter": "python",
   "pygments_lexer": "ipython3",
   "version": "3.7.7"
  },
  "toc": {
   "base_numbering": 1,
   "nav_menu": {},
   "number_sections": true,
   "sideBar": true,
   "skip_h1_title": false,
   "title_cell": "Table of Contents",
   "title_sidebar": "Contents",
   "toc_cell": true,
   "toc_position": {},
   "toc_section_display": true,
   "toc_window_display": false
  }
 },
 "nbformat": 4,
 "nbformat_minor": 4
}
